import rpy2


os.environ['PATH']


import os

# Set the R_HOME environment variable
os.environ['R_HOME'] = 'C:\\Program Files\\R\\R-4.4.0'
os.environ['PATH'] = 'C:\\Program Files\\R\\R-4.4.0\\bin\\x64;' + os.environ['PATH']

import rpy2.situation
for row in rpy2.situation.iter_info():
    print(row)


import os
import subprocess

# Set the R_HOME environment variable
os.environ['R_HOME'] = 'C:\\Program Files\\R\\R-4.4.0'

# Prepend the R binary path to the PATH environment variable
os.environ['PATH'] = 'C:\\Program Files\\R\\R-4.4.0\\bin\\x64;' + os.environ['PATH']

# Check if the R command works by running a simple R command
try:
    r_version = subprocess.check_output(['R', '--version'], universal_newlines=True)
    print("R command is working. R version:")
    print(r_version)
except subprocess.CalledProcessError as e:
    print("Error running R command:")
    print(e.output)
except FileNotFoundError:
    print("R executable not found in PATH.")

# Import rpy2 and check the situation
try:
    import rpy2.situation
    for row in rpy2.situation.iter_info():
        print(row)
except Exception as e:
    print("Error importing rpy2 or iterating situation info:")
    print(e)




