import rpy2
import time
import pandas as pd


import os
import subprocess

# Set the R_HOME environment variable
os.environ['R_HOME'] = 'C:\\Program Files\\R\\R-4.4.1'
# Ensure Rtools bin directory is in the PATH
os.environ['PATH'] = 'C:\\rtools44\\usr\\bin;' + os.environ['PATH']

# Verify the R command works
try:
    r_version = subprocess.check_output(['R', '--version'], universal_newlines=True)
    print("R command is working. R version:")
    print(r_version)
except subprocess.CalledProcessError as e:
    print("Error running R command:")
    print(e.output)
except FileNotFoundError:
    print("R executable not found in PATH.")

# Try to load rpy2 again
try:
    import rpy2.situation
    for row in rpy2.situation.iter_info():
        print(row)
except Exception as e:
    print("Error importing rpy2 or iterating situation info:")
    print(str(e))



start = time.time()
df_2018 = pd.read_sas(r'LLCP2018.XPT')
df_2019 = pd.read_sas(r'LLCP2019.XPT')
df_2020 = pd.read_sas(r'LLCP2020.XPT')
df_2021 = pd.read_sas(r'LLCP2021.XPT')
df_2022 = pd.read_sas(r'LLCP2022.XPT')
end = time.time()
duration = end-start
print(f'completed in {np.round(duration, 1)} seconds')


# import rpy2.robjects as ro


# # Simple R code example
# r_code = """
# x <- rnorm(100)
# mean(x)
# """
# mean_value = ro.r(r_code)
# print(f"The mean of 100 random normal values is: {mean_value[0]}")


# from rpy2.robjects.packages import importr


# from rpy2.robjects.packages import importr
# # Import the rsurvey package
# rsurvey = importr('survey')

# y = df['_RFSMOK3']
# x = df['Year']
# weights = df['Weights']

# # Define a simple R command that uses rsurvey
# r_code = """
# library(survey)

# Assume your data frame is named df
df <- data.frame(
  Y = c(1, 0, 1, 0, 1, 1, 0, 0, 1, 0),
  X = c(1, 1, 0, 0, 1, 0, 1, 0, 1, 0),
  weights = c(1.5, 2.0, 0.5, 1.0, 1.2, 0.8, 1.3, 0.7, 1.1, 1.4)
)
 
# Define the survey design
design <- svydesign(id = ~1, weights = ~weights, data = df)
 
# Fit the logistic regression model
model <- svyglm(Y ~ X, design = design, family = quasibinomial())
 
# Store the summary of the model in a variable named 'result'
result <- summary(model)
"""

# Run the R code
ro.r(r_code)

# Retrieve and print results if needed
result = ro.r('result')
print(f"Result from rsurvey function: {result}")





# for val in range(len(result)):
#     print(val)
#     print(result[val])
#     print('______________________________________________________')


import pandas as pd
import numpy as np
from rpy2.robjects import pandas2ri, r, globalenv
from rpy2.robjects.packages import importr
import numpy as np
from rpy2.robjects.vectors import FloatVector, IntVector, StrVector


df_18 = df_2018.copy()
df_19 = df_2019.copy()
df_20 = df_2020.copy()
df_21 = df_2021.copy()
df_22 = df_2022.copy()


df_18['Year'] = 2018
df_19['Year'] = 2019
df_20['Year'] = 2020
df_21['Year'] = 2021
df_22['Year'] = 2022


def recode_smoker(df):
    df.loc[df['_RFSMOK3'] == 1, '_RFSMOK3'] = 0
    df.loc[df['_RFSMOK3'] == 2, '_RFSMOK3'] = 1
    df['_RFSMOK3'] = df['_RFSMOK3'].replace(9, np.nan)
    return df


df = pd.DataFrame()
for d_frame in [df_18, df_19, df_20, df_21, df_22]:
    d_frame = d_frame[['_STATE', '_RFSMOK3', 'Year', '_STSTR', '_PSU','_LLCPWT']]
    # d_frame = d_frame[d_frame['_STATE'] == 17]
    df = pd.concat([df, d_frame])


df = recode_smoker(df)


df.to_csv('2018-2022 logreg _RFSMOK3 and Year by State.csv', index=False)


df


from rpy2.robjects.packages import importr
# Import the rsurvey package
rsurvey = importr('survey')

# Convert pandas columns to R vectors
r_RFSMOK3 = IntVector(df['_RFSMOK3'])
r_State = IntVector(df['_STATE'])
r_Year = IntVector(df['Year'])
r_Weights = FloatVector(df['_LLCPWT'])
r_PSU = IntVector(df['_PSU'])
r_Strata = IntVector(df['_STSTR'])

# Create an R dataframe from the R vectors
rdf = r['data.frame'](
    Smoking=r_RFSMOK3,
    State=r_State,
    Year=r_Year,
    Weights=r_Weights,
    PSU=r_PSU,
    Strata=r_Strata
)

# Assign R dataframe to a variable in R's global environment
globalenv['rdf'] = rdf
# Define a simple R command that uses rsurvey
r_code = """
library(survey)
col_names <- colnames(rdf)

design <- svydesign(id = ~PSU, strata = ~Strata, weights = ~Weights, data = rdf)
model <- svyglm(formula=Smoking ~ Year, design = design, family = quasibinomial())
result <- summary(model)
"""

# Run the R code
ro.r(r_code)

# Retrieve and print results if needed
result = ro.r('result')
col_names = ro.r('col_names')
print(f"Col Names: {col_names}")
print()
print(f"Result from rsurvey function:")
print(result)


for line in range(len(result)):
    print(f"{line}___________________")
    print(result[line])


print(result[12][1][0])


print(result[12][1][3])


0.05/53



