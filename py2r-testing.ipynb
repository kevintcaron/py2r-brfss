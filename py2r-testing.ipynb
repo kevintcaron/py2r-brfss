{
 "cells": [
  {
   "cell_type": "code",
   "execution_count": 1,
   "id": "e7f00582-b543-4107-beb3-fa95ed9829fb",
   "metadata": {},
   "outputs": [],
   "source": [
    "import rpy2"
   ]
  },
  {
   "cell_type": "code",
   "execution_count": 7,
   "id": "7cc8319e-10f4-4201-b13c-12eee4aa1706",
   "metadata": {},
   "outputs": [
    {
     "data": {
      "text/plain": [
       "'C:\\\\Program Files\\\\R\\\\R-4.4.0\\\\bin\\\\x64;C:\\\\ProgramData\\\\anaconda3;C:\\\\ProgramData\\\\anaconda3\\\\Library\\\\mingw-w64\\\\bin;C:\\\\ProgramData\\\\anaconda3\\\\Library\\\\usr\\\\bin;C:\\\\ProgramData\\\\anaconda3\\\\Library\\\\bin;C:\\\\ProgramData\\\\anaconda3\\\\Scripts;C:\\\\ProgramData\\\\anaconda3\\\\bin;C:\\\\ProgramData\\\\anaconda3\\\\condabin;C:\\\\Program Files (x86)\\\\Common Files\\\\Oracle\\\\Java\\\\java8path;C:\\\\Program Files (x86)\\\\Common Files\\\\Oracle\\\\Java\\\\javapath;C:\\\\WINDOWS\\\\system32;C:\\\\WINDOWS;C:\\\\WINDOWS\\\\System32\\\\Wbem;C:\\\\WINDOWS\\\\System32\\\\WindowsPowerShell\\\\v1.0;C:\\\\WINDOWS\\\\System32\\\\OpenSSH;C:\\\\Program Files\\\\nodejs;C:\\\\Program Files\\\\SASHome94\\\\SASFoundation\\\\9.4\\\\core\\\\sasexe;C:\\\\Program Files\\\\SASHome94\\\\SASFoundation\\\\9.4\\\\ets\\\\sasexe;C:\\\\Program Files\\\\SASHome94\\\\Secure\\\\ccme4;C:\\\\Program Files\\\\SASHome94\\\\SASFoundation\\\\9.4\\\\core\\\\sasext;C:\\\\Program Files (x86)\\\\Microsoft SQL Server\\\\160\\\\DTS\\\\Binn;C:\\\\Program Files\\\\Azure Data Studio\\\\bin;C:\\\\Users\\\\wrn0\\\\AppData\\\\Local\\\\Programs\\\\Python\\\\Launcher;C:\\\\Users\\\\wrn0\\\\AppData\\\\Local\\\\Microsoft\\\\WindowsApps;C:\\\\Users\\\\wrn0\\\\AppData\\\\Local\\\\GitHubDesktop\\\\bin;C:\\\\Program Files\\\\Azure Data Studio\\\\bin;C:\\\\Program Files\\\\R\\\\R-4.4.0\\\\bin\\\\x64'"
      ]
     },
     "execution_count": 7,
     "metadata": {},
     "output_type": "execute_result"
    }
   ],
   "source": [
    "os.environ['PATH']"
   ]
  },
  {
   "cell_type": "code",
   "execution_count": 6,
   "id": "30904ead-ad19-4e79-b461-cc5089860a0e",
   "metadata": {},
   "outputs": [
    {
     "name": "stdout",
     "output_type": "stream",
     "text": [
      "rpy2 version:\n",
      "3.5.16\n",
      "Python version:\n",
      "3.11.7 | packaged by Anaconda, Inc. | (main, Dec 15 2023, 18:05:47) [MSC v.1916 64 bit (AMD64)]\n",
      "Looking for R's HOME:\n",
      "    Environment variable R_HOME: C:\\Program Files\\R\\R-4.4.0\n",
      "    InstallPath in the registry: C:\\Program Files\\R\\R-4.4.0\n",
      "    Environment variable R_USER: None\n",
      "    Environment variable R_LIBS_USER: None\n",
      "R version:\n",
      "    In the PATH: R version 4.4.0 (2024-04-24 ucrt) -- \"Puppy Cup\"\n",
      "    Loading R library from rpy2: OK\n",
      "Additional directories to load R packages from:\n",
      "None\n",
      "C extension compilation:\n",
      "    Warning: Unable to get R compilation flags.\n",
      "Directory for the R shared library:\n"
     ]
    },
    {
     "ename": "CalledProcessError",
     "evalue": "Command '('C:\\\\Program Files\\\\R\\\\R-4.4.0\\\\bin\\\\x64\\\\R', 'CMD', 'config', 'LIBnn')' returned non-zero exit status 1.",
     "output_type": "error",
     "traceback": [
      "\u001b[1;31m---------------------------------------------------------------------------\u001b[0m",
      "\u001b[1;31mCalledProcessError\u001b[0m                        Traceback (most recent call last)",
      "Cell \u001b[1;32mIn[6], line 8\u001b[0m\n\u001b[0;32m      5\u001b[0m os\u001b[38;5;241m.\u001b[39menviron[\u001b[38;5;124m'\u001b[39m\u001b[38;5;124mPATH\u001b[39m\u001b[38;5;124m'\u001b[39m] \u001b[38;5;241m=\u001b[39m \u001b[38;5;124m'\u001b[39m\u001b[38;5;124mC:\u001b[39m\u001b[38;5;130;01m\\\\\u001b[39;00m\u001b[38;5;124mProgram Files\u001b[39m\u001b[38;5;130;01m\\\\\u001b[39;00m\u001b[38;5;124mR\u001b[39m\u001b[38;5;130;01m\\\\\u001b[39;00m\u001b[38;5;124mR-4.4.0\u001b[39m\u001b[38;5;130;01m\\\\\u001b[39;00m\u001b[38;5;124mbin\u001b[39m\u001b[38;5;130;01m\\\\\u001b[39;00m\u001b[38;5;124mx64;\u001b[39m\u001b[38;5;124m'\u001b[39m \u001b[38;5;241m+\u001b[39m os\u001b[38;5;241m.\u001b[39menviron[\u001b[38;5;124m'\u001b[39m\u001b[38;5;124mPATH\u001b[39m\u001b[38;5;124m'\u001b[39m]\n\u001b[0;32m      7\u001b[0m \u001b[38;5;28;01mimport\u001b[39;00m \u001b[38;5;21;01mrpy2\u001b[39;00m\u001b[38;5;21;01m.\u001b[39;00m\u001b[38;5;21;01msituation\u001b[39;00m\n\u001b[1;32m----> 8\u001b[0m \u001b[38;5;28;01mfor\u001b[39;00m row \u001b[38;5;129;01min\u001b[39;00m rpy2\u001b[38;5;241m.\u001b[39msituation\u001b[38;5;241m.\u001b[39miter_info():\n\u001b[0;32m      9\u001b[0m     \u001b[38;5;28mprint\u001b[39m(row)\n",
      "File \u001b[1;32m~\\AppData\\Roaming\\Python\\Python311\\site-packages\\rpy2\\situation.py:454\u001b[0m, in \u001b[0;36miter_info\u001b[1;34m()\u001b[0m\n\u001b[0;32m    451\u001b[0m         \u001b[38;5;28;01myield\u001b[39;00m (\u001b[38;5;124m'\u001b[39m\u001b[38;5;124m    Warning: Unable to get R compilation flags.\u001b[39m\u001b[38;5;124m'\u001b[39m)\n\u001b[0;32m    453\u001b[0m \u001b[38;5;28;01myield\u001b[39;00m \u001b[38;5;124m'\u001b[39m\u001b[38;5;124mDirectory for the R shared library:\u001b[39m\u001b[38;5;124m'\u001b[39m\n\u001b[1;32m--> 454\u001b[0m \u001b[38;5;28;01myield\u001b[39;00m get_r_libnn(r_home)\n\u001b[0;32m    456\u001b[0m \u001b[38;5;28;01myield\u001b[39;00m make_bold(\u001b[38;5;124m'\u001b[39m\u001b[38;5;124mCFFI extension type\u001b[39m\u001b[38;5;124m'\u001b[39m)\n\u001b[0;32m    457\u001b[0m \u001b[38;5;28;01myield\u001b[39;00m \u001b[38;5;124mf\u001b[39m\u001b[38;5;124m'\u001b[39m\u001b[38;5;124m  Environment variable: \u001b[39m\u001b[38;5;132;01m{\u001b[39;00mENVVAR_CFFI_TYPE\u001b[38;5;132;01m}\u001b[39;00m\u001b[38;5;124m'\u001b[39m\n",
      "File \u001b[1;32m~\\AppData\\Roaming\\Python\\Python311\\site-packages\\rpy2\\situation.py:263\u001b[0m, in \u001b[0;36mget_r_libnn\u001b[1;34m(r_home)\u001b[0m\n\u001b[0;32m    262\u001b[0m \u001b[38;5;28;01mdef\u001b[39;00m \u001b[38;5;21mget_r_libnn\u001b[39m(r_home: \u001b[38;5;28mstr\u001b[39m):\n\u001b[1;32m--> 263\u001b[0m     \u001b[38;5;28;01mreturn\u001b[39;00m _get_r_cmd_config(r_home, \u001b[38;5;124m'\u001b[39m\u001b[38;5;124mLIBnn\u001b[39m\u001b[38;5;124m'\u001b[39m,\n\u001b[0;32m    264\u001b[0m                              allow_empty\u001b[38;5;241m=\u001b[39m\u001b[38;5;28;01mFalse\u001b[39;00m)[\u001b[38;5;241m0\u001b[39m]\n",
      "File \u001b[1;32m~\\AppData\\Roaming\\Python\\Python311\\site-packages\\rpy2\\situation.py:246\u001b[0m, in \u001b[0;36m_get_r_cmd_config\u001b[1;34m(r_home, about, allow_empty)\u001b[0m\n\u001b[0;32m    244\u001b[0m cmd \u001b[38;5;241m=\u001b[39m (r_exec, \u001b[38;5;124m'\u001b[39m\u001b[38;5;124mCMD\u001b[39m\u001b[38;5;124m'\u001b[39m, \u001b[38;5;124m'\u001b[39m\u001b[38;5;124mconfig\u001b[39m\u001b[38;5;124m'\u001b[39m, about)\n\u001b[0;32m    245\u001b[0m logger\u001b[38;5;241m.\u001b[39mdebug(\u001b[38;5;124m'\u001b[39m\u001b[38;5;124mLooking for R CONFIG with: \u001b[39m\u001b[38;5;132;01m{}\u001b[39;00m\u001b[38;5;124m'\u001b[39m\u001b[38;5;241m.\u001b[39mformat(\u001b[38;5;124m'\u001b[39m\u001b[38;5;124m \u001b[39m\u001b[38;5;124m'\u001b[39m\u001b[38;5;241m.\u001b[39mjoin(cmd)))\n\u001b[1;32m--> 246\u001b[0m output \u001b[38;5;241m=\u001b[39m subprocess\u001b[38;5;241m.\u001b[39mcheck_output(\n\u001b[0;32m    247\u001b[0m     cmd,\n\u001b[0;32m    248\u001b[0m     universal_newlines\u001b[38;5;241m=\u001b[39m\u001b[38;5;28;01mTrue\u001b[39;00m\n\u001b[0;32m    249\u001b[0m )\u001b[38;5;241m.\u001b[39msplit(os\u001b[38;5;241m.\u001b[39mlinesep)\n\u001b[0;32m    250\u001b[0m \u001b[38;5;66;03m# Twist if 'R RHOME' spits out a warning\u001b[39;00m\n\u001b[0;32m    251\u001b[0m \u001b[38;5;28;01mif\u001b[39;00m output[\u001b[38;5;241m0\u001b[39m]\u001b[38;5;241m.\u001b[39mstartswith(\u001b[38;5;124m'\u001b[39m\u001b[38;5;124mWARNING\u001b[39m\u001b[38;5;124m'\u001b[39m):\n",
      "File \u001b[1;32mC:\\ProgramData\\anaconda3\\Lib\\subprocess.py:466\u001b[0m, in \u001b[0;36mcheck_output\u001b[1;34m(timeout, *popenargs, **kwargs)\u001b[0m\n\u001b[0;32m    463\u001b[0m         empty \u001b[38;5;241m=\u001b[39m \u001b[38;5;124mb\u001b[39m\u001b[38;5;124m'\u001b[39m\u001b[38;5;124m'\u001b[39m\n\u001b[0;32m    464\u001b[0m     kwargs[\u001b[38;5;124m'\u001b[39m\u001b[38;5;124minput\u001b[39m\u001b[38;5;124m'\u001b[39m] \u001b[38;5;241m=\u001b[39m empty\n\u001b[1;32m--> 466\u001b[0m \u001b[38;5;28;01mreturn\u001b[39;00m run(\u001b[38;5;241m*\u001b[39mpopenargs, stdout\u001b[38;5;241m=\u001b[39mPIPE, timeout\u001b[38;5;241m=\u001b[39mtimeout, check\u001b[38;5;241m=\u001b[39m\u001b[38;5;28;01mTrue\u001b[39;00m,\n\u001b[0;32m    467\u001b[0m            \u001b[38;5;241m*\u001b[39m\u001b[38;5;241m*\u001b[39mkwargs)\u001b[38;5;241m.\u001b[39mstdout\n",
      "File \u001b[1;32mC:\\ProgramData\\anaconda3\\Lib\\subprocess.py:571\u001b[0m, in \u001b[0;36mrun\u001b[1;34m(input, capture_output, timeout, check, *popenargs, **kwargs)\u001b[0m\n\u001b[0;32m    569\u001b[0m     retcode \u001b[38;5;241m=\u001b[39m process\u001b[38;5;241m.\u001b[39mpoll()\n\u001b[0;32m    570\u001b[0m     \u001b[38;5;28;01mif\u001b[39;00m check \u001b[38;5;129;01mand\u001b[39;00m retcode:\n\u001b[1;32m--> 571\u001b[0m         \u001b[38;5;28;01mraise\u001b[39;00m CalledProcessError(retcode, process\u001b[38;5;241m.\u001b[39margs,\n\u001b[0;32m    572\u001b[0m                                  output\u001b[38;5;241m=\u001b[39mstdout, stderr\u001b[38;5;241m=\u001b[39mstderr)\n\u001b[0;32m    573\u001b[0m \u001b[38;5;28;01mreturn\u001b[39;00m CompletedProcess(process\u001b[38;5;241m.\u001b[39margs, retcode, stdout, stderr)\n",
      "\u001b[1;31mCalledProcessError\u001b[0m: Command '('C:\\\\Program Files\\\\R\\\\R-4.4.0\\\\bin\\\\x64\\\\R', 'CMD', 'config', 'LIBnn')' returned non-zero exit status 1."
     ]
    }
   ],
   "source": [
    "import os\n",
    "\n",
    "# Set the R_HOME environment variable\n",
    "os.environ['R_HOME'] = 'C:\\\\Program Files\\\\R\\\\R-4.4.0'\n",
    "os.environ['PATH'] = 'C:\\\\Program Files\\\\R\\\\R-4.4.0\\\\bin\\\\x64;' + os.environ['PATH']\n",
    "\n",
    "import rpy2.situation\n",
    "for row in rpy2.situation.iter_info():\n",
    "    print(row)"
   ]
  },
  {
   "cell_type": "code",
   "execution_count": 8,
   "id": "cfda6b0e-9ca2-4c55-94be-11c5cadd79f3",
   "metadata": {},
   "outputs": [
    {
     "name": "stdout",
     "output_type": "stream",
     "text": [
      "R command is working. R version:\n",
      "\n",
      "rpy2 version:\n",
      "3.5.16\n",
      "Python version:\n",
      "3.11.7 | packaged by Anaconda, Inc. | (main, Dec 15 2023, 18:05:47) [MSC v.1916 64 bit (AMD64)]\n",
      "Looking for R's HOME:\n",
      "    Environment variable R_HOME: C:\\Program Files\\R\\R-4.4.0\n",
      "    InstallPath in the registry: C:\\Program Files\\R\\R-4.4.0\n",
      "    Environment variable R_USER: None\n",
      "    Environment variable R_LIBS_USER: None\n",
      "R version:\n",
      "    In the PATH: R version 4.4.0 (2024-04-24 ucrt) -- \"Puppy Cup\"\n",
      "    Loading R library from rpy2: OK\n",
      "Additional directories to load R packages from:\n",
      "None\n",
      "C extension compilation:\n",
      "    Warning: Unable to get R compilation flags.\n",
      "Directory for the R shared library:\n",
      "Error importing rpy2 or iterating situation info:\n",
      "Command '('C:\\\\Program Files\\\\R\\\\R-4.4.0\\\\bin\\\\x64\\\\R', 'CMD', 'config', 'LIBnn')' returned non-zero exit status 1.\n"
     ]
    }
   ],
   "source": [
    "import os\n",
    "import subprocess\n",
    "\n",
    "# Set the R_HOME environment variable\n",
    "os.environ['R_HOME'] = 'C:\\\\Program Files\\\\R\\\\R-4.4.0'\n",
    "\n",
    "# Prepend the R binary path to the PATH environment variable\n",
    "os.environ['PATH'] = 'C:\\\\Program Files\\\\R\\\\R-4.4.0\\\\bin\\\\x64;' + os.environ['PATH']\n",
    "\n",
    "# Check if the R command works by running a simple R command\n",
    "try:\n",
    "    r_version = subprocess.check_output(['R', '--version'], universal_newlines=True)\n",
    "    print(\"R command is working. R version:\")\n",
    "    print(r_version)\n",
    "except subprocess.CalledProcessError as e:\n",
    "    print(\"Error running R command:\")\n",
    "    print(e.output)\n",
    "except FileNotFoundError:\n",
    "    print(\"R executable not found in PATH.\")\n",
    "\n",
    "# Import rpy2 and check the situation\n",
    "try:\n",
    "    import rpy2.situation\n",
    "    for row in rpy2.situation.iter_info():\n",
    "        print(row)\n",
    "except Exception as e:\n",
    "    print(\"Error importing rpy2 or iterating situation info:\")\n",
    "    print(e)\n"
   ]
  },
  {
   "cell_type": "code",
   "execution_count": null,
   "id": "73564247-551b-4540-ab1f-b90ad6dcfcfa",
   "metadata": {},
   "outputs": [],
   "source": []
  }
 ],
 "metadata": {
  "kernelspec": {
   "display_name": "Python 3 (ipykernel)",
   "language": "python",
   "name": "python3"
  },
  "language_info": {
   "codemirror_mode": {
    "name": "ipython",
    "version": 3
   },
   "file_extension": ".py",
   "mimetype": "text/x-python",
   "name": "python",
   "nbconvert_exporter": "python",
   "pygments_lexer": "ipython3",
   "version": "3.11.7"
  }
 },
 "nbformat": 4,
 "nbformat_minor": 5
}
