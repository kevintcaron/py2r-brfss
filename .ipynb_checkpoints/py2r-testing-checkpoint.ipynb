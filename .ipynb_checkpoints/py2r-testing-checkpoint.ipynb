{
 "cells": [
  {
   "cell_type": "code",
   "execution_count": 24,
   "id": "e7f00582-b543-4107-beb3-fa95ed9829fb",
   "metadata": {},
   "outputs": [],
   "source": [
    "import rpy2\n",
    "import time\n",
    "import pandas as pd"
   ]
  },
  {
   "cell_type": "code",
   "execution_count": 21,
   "id": "cfda6b0e-9ca2-4c55-94be-11c5cadd79f3",
   "metadata": {},
   "outputs": [
    {
     "name": "stdout",
     "output_type": "stream",
     "text": [
      "R command is working. R version:\n",
      "\n",
      "rpy2 version:\n",
      "3.5.16\n",
      "Python version:\n",
      "3.11.9 | packaged by conda-forge | (main, Apr 19 2024, 18:27:10) [MSC v.1938 64 bit (AMD64)]\n",
      "Looking for R's HOME:\n",
      "    Environment variable R_HOME: C:\\Program Files\\R\\R-4.4.1\n",
      "    InstallPath in the registry: C:\\Program Files\\R\\R-4.4.1\n",
      "    Environment variable R_USER: None\n",
      "    Environment variable R_LIBS_USER: None\n",
      "R version:\n",
      "    In the PATH: R version 4.4.1 (2024-06-14 ucrt) -- \"Race for Your Life\"\n",
      "    Loading R library from rpy2: OK\n",
      "Additional directories to load R packages from:\n",
      "None\n",
      "C extension compilation:\n",
      "  include:\n",
      "  ['C:/PROGRA~1/R/R-44~1.1/include', 'C:/PROGRA~1/R/R-44~1.1/include/x64']\n",
      "  libraries:\n",
      "  ['R', 'm']\n",
      "  library_dirs:\n",
      "  ['C:/PROGRA~1/R/R-44~1.1/bin/x64']\n",
      "  extra_compile_args:\n",
      "  ['-std=c99']\n",
      "  extra_link_args:\n",
      "  []\n",
      "Directory for the R shared library:\n",
      "lib\n",
      "\n",
      "CFFI extension type\n",
      "  Environment variable: RPY2_CFFI_MODE\n",
      "  Value: CFFI_MODE.ANY\n",
      "  ABI: PRESENT\n",
      "  API: ABSENT\n"
     ]
    }
   ],
   "source": [
    "import os\n",
    "import subprocess\n",
    "\n",
    "# Set the R_HOME environment variable\n",
    "os.environ['R_HOME'] = 'C:\\\\Program Files\\\\R\\\\R-4.4.1'\n",
    "# Ensure Rtools bin directory is in the PATH\n",
    "os.environ['PATH'] = 'C:\\\\rtools44\\\\usr\\\\bin;' + os.environ['PATH']\n",
    "\n",
    "# Verify the R command works\n",
    "try:\n",
    "    r_version = subprocess.check_output(['R', '--version'], universal_newlines=True)\n",
    "    print(\"R command is working. R version:\")\n",
    "    print(r_version)\n",
    "except subprocess.CalledProcessError as e:\n",
    "    print(\"Error running R command:\")\n",
    "    print(e.output)\n",
    "except FileNotFoundError:\n",
    "    print(\"R executable not found in PATH.\")\n",
    "\n",
    "# Try to load rpy2 again\n",
    "try:\n",
    "    import rpy2.situation\n",
    "    for row in rpy2.situation.iter_info():\n",
    "        print(row)\n",
    "except Exception as e:\n",
    "    print(\"Error importing rpy2 or iterating situation info:\")\n",
    "    print(str(e))\n"
   ]
  },
  {
   "cell_type": "code",
   "execution_count": 25,
   "id": "dea41d55-bf91-46d9-b946-768b00d591d7",
   "metadata": {},
   "outputs": [
    {
     "ename": "NameError",
     "evalue": "name 'np' is not defined",
     "output_type": "error",
     "traceback": [
      "\u001b[1;31m---------------------------------------------------------------------------\u001b[0m",
      "\u001b[1;31mNameError\u001b[0m                                 Traceback (most recent call last)",
      "Cell \u001b[1;32mIn[25], line 9\u001b[0m\n\u001b[0;32m      7\u001b[0m end \u001b[38;5;241m=\u001b[39m time\u001b[38;5;241m.\u001b[39mtime()\n\u001b[0;32m      8\u001b[0m duration \u001b[38;5;241m=\u001b[39m end\u001b[38;5;241m-\u001b[39mstart\n\u001b[1;32m----> 9\u001b[0m \u001b[38;5;28mprint\u001b[39m(\u001b[38;5;124mf\u001b[39m\u001b[38;5;124m'\u001b[39m\u001b[38;5;124mcompleted in \u001b[39m\u001b[38;5;132;01m{\u001b[39;00m\u001b[43mnp\u001b[49m\u001b[38;5;241m.\u001b[39mround(duration,\u001b[38;5;250m \u001b[39m\u001b[38;5;241m1\u001b[39m)\u001b[38;5;132;01m}\u001b[39;00m\u001b[38;5;124m seconds\u001b[39m\u001b[38;5;124m'\u001b[39m)\n",
      "\u001b[1;31mNameError\u001b[0m: name 'np' is not defined"
     ]
    }
   ],
   "source": [
    "start = time.time()\n",
    "df_2018 = pd.read_sas(r'LLCP2018.XPT')\n",
    "df_2019 = pd.read_sas(r'LLCP2019.XPT')\n",
    "df_2020 = pd.read_sas(r'LLCP2020.XPT')\n",
    "df_2021 = pd.read_sas(r'LLCP2021.XPT')\n",
    "df_2022 = pd.read_sas(r'LLCP2022.XPT')\n",
    "end = time.time()\n",
    "duration = end-start\n",
    "print(f'completed in {np.round(duration, 1)} seconds')"
   ]
  },
  {
   "cell_type": "code",
   "execution_count": null,
   "id": "73564247-551b-4540-ab1f-b90ad6dcfcfa",
   "metadata": {},
   "outputs": [],
   "source": [
    "# import rpy2.robjects as ro"
   ]
  },
  {
   "cell_type": "code",
   "execution_count": null,
   "id": "9f6f112e-271f-4fac-9820-621f3fd0f178",
   "metadata": {},
   "outputs": [],
   "source": [
    "# # Simple R code example\n",
    "# r_code = \"\"\"\n",
    "# x <- rnorm(100)\n",
    "# mean(x)\n",
    "# \"\"\"\n",
    "# mean_value = ro.r(r_code)\n",
    "# print(f\"The mean of 100 random normal values is: {mean_value[0]}\")"
   ]
  },
  {
   "cell_type": "code",
   "execution_count": null,
   "id": "931e7141-4caa-45c9-884a-abbbd66f1795",
   "metadata": {},
   "outputs": [],
   "source": [
    "# from rpy2.robjects.packages import importr"
   ]
  },
  {
   "cell_type": "code",
   "execution_count": null,
   "id": "2143c38d-b426-47e7-8b02-31fb152af68e",
   "metadata": {},
   "outputs": [],
   "source": [
    "# from rpy2.robjects.packages import importr\n",
    "# # Import the rsurvey package\n",
    "# rsurvey = importr('survey')\n",
    "\n",
    "# y = df['_RFSMOK3']\n",
    "# x = df['Year']\n",
    "# weights = df['Weights']\n",
    "\n",
    "# # Define a simple R command that uses rsurvey\n",
    "# r_code = \"\"\"\n",
    "# library(survey)\n",
    "\n",
    "# Assume your data frame is named df\n",
    "df <- data.frame(\n",
    "  Y = c(1, 0, 1, 0, 1, 1, 0, 0, 1, 0),\n",
    "  X = c(1, 1, 0, 0, 1, 0, 1, 0, 1, 0),\n",
    "  weights = c(1.5, 2.0, 0.5, 1.0, 1.2, 0.8, 1.3, 0.7, 1.1, 1.4)\n",
    ")\n",
    " \n",
    "# Define the survey design\n",
    "design <- svydesign(id = ~1, weights = ~weights, data = df)\n",
    " \n",
    "# Fit the logistic regression model\n",
    "model <- svyglm(Y ~ X, design = design, family = quasibinomial())\n",
    " \n",
    "# Store the summary of the model in a variable named 'result'\n",
    "result <- summary(model)\n",
    "\"\"\"\n",
    "\n",
    "# Run the R code\n",
    "ro.r(r_code)\n",
    "\n",
    "# Retrieve and print results if needed\n",
    "result = ro.r('result')\n",
    "print(f\"Result from rsurvey function: {result}\")"
   ]
  },
  {
   "cell_type": "code",
   "execution_count": null,
   "id": "e300ae84-f14a-4cd5-bda6-108906a2aaed",
   "metadata": {},
   "outputs": [],
   "source": []
  },
  {
   "cell_type": "code",
   "execution_count": null,
   "id": "59533779-440b-463d-af55-febf5c59ee9c",
   "metadata": {},
   "outputs": [],
   "source": [
    "# for val in range(len(result)):\n",
    "#     print(val)\n",
    "#     print(result[val])\n",
    "#     print('______________________________________________________')"
   ]
  },
  {
   "cell_type": "code",
   "execution_count": 52,
   "id": "e6992328-68cc-4dad-9a45-1ba1dc48d88b",
   "metadata": {},
   "outputs": [],
   "source": [
    "import pandas as pd\n",
    "import numpy as np\n",
    "from rpy2.robjects import pandas2ri, r, globalenv\n",
    "from rpy2.robjects.packages import importr\n",
    "import numpy as np\n",
    "from rpy2.robjects.vectors import FloatVector, IntVector, StrVector"
   ]
  },
  {
   "cell_type": "code",
   "execution_count": 94,
   "id": "a6d166e5-5680-4960-b501-09569c7c6a6f",
   "metadata": {},
   "outputs": [],
   "source": [
    "df_18 = df_2018.copy()\n",
    "df_19 = df_2019.copy()\n",
    "df_20 = df_2020.copy()\n",
    "df_21 = df_2021.copy()\n",
    "df_22 = df_2022.copy()"
   ]
  },
  {
   "cell_type": "code",
   "execution_count": 95,
   "id": "65f38e0b-8e31-4c2a-bbea-67b8cbeb97e1",
   "metadata": {},
   "outputs": [],
   "source": [
    "df_18['Year'] = 2018\n",
    "df_19['Year'] = 2019\n",
    "df_20['Year'] = 2020\n",
    "df_21['Year'] = 2021\n",
    "df_22['Year'] = 2022"
   ]
  },
  {
   "cell_type": "code",
   "execution_count": 96,
   "id": "8922a9b1-00b9-47dd-bd3c-17583eead950",
   "metadata": {},
   "outputs": [],
   "source": [
    "def recode_smoker(df):\n",
    "    df.loc[df['_RFSMOK3'] == 1, '_RFSMOK3'] = 0\n",
    "    df.loc[df['_RFSMOK3'] == 2, '_RFSMOK3'] = 1\n",
    "    df['_RFSMOK3'] = df['_RFSMOK3'].replace(9, np.nan)\n",
    "    return df"
   ]
  },
  {
   "cell_type": "code",
   "execution_count": 97,
   "id": "a95c5134-4f44-4dd2-aac8-4844b99f239d",
   "metadata": {},
   "outputs": [],
   "source": [
    "df = pd.DataFrame()\n",
    "for d_frame in [df_18, df_19, df_20, df_21, df_22]:\n",
    "    d_frame = d_frame[['_STATE', '_RFSMOK3', 'Year', '_STSTR', '_PSU','_LLCPWT']]\n",
    "    # d_frame = d_frame[d_frame['_STATE'] == 17]\n",
    "    df = pd.concat([df, d_frame])"
   ]
  },
  {
   "cell_type": "code",
   "execution_count": 98,
   "id": "3179f4f1-5dd0-48f9-a18a-4ace1f1803c3",
   "metadata": {},
   "outputs": [],
   "source": [
    "df = recode_smoker(df)"
   ]
  },
  {
   "cell_type": "code",
   "execution_count": 63,
   "id": "0be8e7eb-e63c-4246-91c6-8c1f8a1d21c9",
   "metadata": {},
   "outputs": [],
   "source": [
    "# df.to_csv('2018-2022 logreg-IL _RFSMOK3 and Year.csv', index=False)"
   ]
  },
  {
   "cell_type": "code",
   "execution_count": 99,
   "id": "c17ef181-37b3-4f96-99cc-2817729725f2",
   "metadata": {},
   "outputs": [
    {
     "data": {
      "text/html": [
       "<div>\n",
       "<style scoped>\n",
       "    .dataframe tbody tr th:only-of-type {\n",
       "        vertical-align: middle;\n",
       "    }\n",
       "\n",
       "    .dataframe tbody tr th {\n",
       "        vertical-align: top;\n",
       "    }\n",
       "\n",
       "    .dataframe thead th {\n",
       "        text-align: right;\n",
       "    }\n",
       "</style>\n",
       "<table border=\"1\" class=\"dataframe\">\n",
       "  <thead>\n",
       "    <tr style=\"text-align: right;\">\n",
       "      <th></th>\n",
       "      <th>_STATE</th>\n",
       "      <th>_RFSMOK3</th>\n",
       "      <th>Year</th>\n",
       "      <th>_STSTR</th>\n",
       "      <th>_PSU</th>\n",
       "      <th>_LLCPWT</th>\n",
       "    </tr>\n",
       "  </thead>\n",
       "  <tbody>\n",
       "    <tr>\n",
       "      <th>0</th>\n",
       "      <td>1.0</td>\n",
       "      <td>0.0</td>\n",
       "      <td>2018</td>\n",
       "      <td>11011.0</td>\n",
       "      <td>2.018000e+09</td>\n",
       "      <td>173.185135</td>\n",
       "    </tr>\n",
       "    <tr>\n",
       "      <th>1</th>\n",
       "      <td>1.0</td>\n",
       "      <td>1.0</td>\n",
       "      <td>2018</td>\n",
       "      <td>11012.0</td>\n",
       "      <td>2.018000e+09</td>\n",
       "      <td>1540.504315</td>\n",
       "    </tr>\n",
       "    <tr>\n",
       "      <th>2</th>\n",
       "      <td>1.0</td>\n",
       "      <td>0.0</td>\n",
       "      <td>2018</td>\n",
       "      <td>11011.0</td>\n",
       "      <td>2.018000e+09</td>\n",
       "      <td>607.098051</td>\n",
       "    </tr>\n",
       "    <tr>\n",
       "      <th>3</th>\n",
       "      <td>1.0</td>\n",
       "      <td>0.0</td>\n",
       "      <td>2018</td>\n",
       "      <td>11011.0</td>\n",
       "      <td>2.018000e+09</td>\n",
       "      <td>822.672162</td>\n",
       "    </tr>\n",
       "    <tr>\n",
       "      <th>4</th>\n",
       "      <td>1.0</td>\n",
       "      <td>0.0</td>\n",
       "      <td>2018</td>\n",
       "      <td>11012.0</td>\n",
       "      <td>2.018000e+09</td>\n",
       "      <td>2229.728350</td>\n",
       "    </tr>\n",
       "    <tr>\n",
       "      <th>...</th>\n",
       "      <td>...</td>\n",
       "      <td>...</td>\n",
       "      <td>...</td>\n",
       "      <td>...</td>\n",
       "      <td>...</td>\n",
       "      <td>...</td>\n",
       "    </tr>\n",
       "    <tr>\n",
       "      <th>445127</th>\n",
       "      <td>78.0</td>\n",
       "      <td>0.0</td>\n",
       "      <td>2022</td>\n",
       "      <td>782021.0</td>\n",
       "      <td>2.022002e+09</td>\n",
       "      <td>37.309732</td>\n",
       "    </tr>\n",
       "    <tr>\n",
       "      <th>445128</th>\n",
       "      <td>78.0</td>\n",
       "      <td>0.0</td>\n",
       "      <td>2022</td>\n",
       "      <td>782021.0</td>\n",
       "      <td>2.022002e+09</td>\n",
       "      <td>103.712331</td>\n",
       "    </tr>\n",
       "    <tr>\n",
       "      <th>445129</th>\n",
       "      <td>78.0</td>\n",
       "      <td>1.0</td>\n",
       "      <td>2022</td>\n",
       "      <td>782021.0</td>\n",
       "      <td>2.022002e+09</td>\n",
       "      <td>4.781602</td>\n",
       "    </tr>\n",
       "    <tr>\n",
       "      <th>445130</th>\n",
       "      <td>78.0</td>\n",
       "      <td>0.0</td>\n",
       "      <td>2022</td>\n",
       "      <td>782021.0</td>\n",
       "      <td>2.022002e+09</td>\n",
       "      <td>8.269244</td>\n",
       "    </tr>\n",
       "    <tr>\n",
       "      <th>445131</th>\n",
       "      <td>78.0</td>\n",
       "      <td>0.0</td>\n",
       "      <td>2022</td>\n",
       "      <td>782021.0</td>\n",
       "      <td>2.022002e+09</td>\n",
       "      <td>368.817758</td>\n",
       "    </tr>\n",
       "  </tbody>\n",
       "</table>\n",
       "<p>2141487 rows × 6 columns</p>\n",
       "</div>"
      ],
      "text/plain": [
       "        _STATE  _RFSMOK3  Year    _STSTR          _PSU      _LLCPWT\n",
       "0          1.0       0.0  2018   11011.0  2.018000e+09   173.185135\n",
       "1          1.0       1.0  2018   11012.0  2.018000e+09  1540.504315\n",
       "2          1.0       0.0  2018   11011.0  2.018000e+09   607.098051\n",
       "3          1.0       0.0  2018   11011.0  2.018000e+09   822.672162\n",
       "4          1.0       0.0  2018   11012.0  2.018000e+09  2229.728350\n",
       "...        ...       ...   ...       ...           ...          ...\n",
       "445127    78.0       0.0  2022  782021.0  2.022002e+09    37.309732\n",
       "445128    78.0       0.0  2022  782021.0  2.022002e+09   103.712331\n",
       "445129    78.0       1.0  2022  782021.0  2.022002e+09     4.781602\n",
       "445130    78.0       0.0  2022  782021.0  2.022002e+09     8.269244\n",
       "445131    78.0       0.0  2022  782021.0  2.022002e+09   368.817758\n",
       "\n",
       "[2141487 rows x 6 columns]"
      ]
     },
     "execution_count": 99,
     "metadata": {},
     "output_type": "execute_result"
    }
   ],
   "source": [
    "df"
   ]
  },
  {
   "cell_type": "code",
   "execution_count": 81,
   "id": "a9f4100e-0199-46e6-9303-01619ca1cd16",
   "metadata": {},
   "outputs": [
    {
     "name": "stdout",
     "output_type": "stream",
     "text": [
      "Col Names: ['Smoking' 'Year' 'Weights' 'PSU' 'Strata']\n",
      "\n",
      "Result from rsurvey function:\n",
      "\n",
      "Call:\n",
      "svyglm(formula = Smoking ~ Year, design = design, family = quasibinomial())\n",
      "\n",
      "Survey design:\n",
      "svydesign(id = ~PSU, strata = ~Strata, weights = ~Weights, data = rdf)\n",
      "\n",
      "Coefficients:\n",
      "             Estimate Std. Error t value Pr(>|t|)    \n",
      "(Intercept) 148.13714   37.56144   3.944 8.04e-05 ***\n",
      "Year         -0.07426    0.01860  -3.993 6.55e-05 ***\n",
      "---\n",
      "Signif. codes:  0 '***' 0.001 '**' 0.01 '*' 0.05 '.' 0.1 ' ' 1\n",
      "\n",
      "(Dispersion parameter for quasibinomial family taken to be 0.9937523)\n",
      "\n",
      "Number of Fisher Scoring iterations: 3\n",
      "\n",
      "\n"
     ]
    }
   ],
   "source": [
    "from rpy2.robjects.packages import importr\n",
    "# Import the rsurvey package\n",
    "rsurvey = importr('survey')\n",
    "\n",
    "# Convert pandas columns to R vectors\n",
    "r_RFSMOK3 = IntVector(df['_RFSMOK3'])\n",
    "r_State = IntVector(df['_STATE'])\n",
    "r_Year = IntVector(df['Year'])\n",
    "r_Weights = FloatVector(df['_LLCPWT'])\n",
    "r_PSU = IntVector(df['_PSU'])\n",
    "r_Strata = IntVector(df['_STSTR'])\n",
    "\n",
    "# Create an R dataframe from the R vectors\n",
    "rdf = r['data.frame'](\n",
    "    Smoking=r_RFSMOK3,\n",
    "    State=r_State,\n",
    "    Year=r_Year,\n",
    "    Weights=r_Weights,\n",
    "    PSU=r_PSU,\n",
    "    Strata=r_Strata\n",
    ")\n",
    "\n",
    "# Assign R dataframe to a variable in R's global environment\n",
    "globalenv['rdf'] = rdf\n",
    "# Define a simple R command that uses rsurvey\n",
    "r_code = \"\"\"\n",
    "library(survey)\n",
    "col_names <- colnames(rdf)\n",
    "\n",
    "design <- svydesign(id = ~PSU, strata = ~Strata, weights = ~Weights, data = rdf)\n",
    "model <- svyglm(Smoking ~ Year, design = design, family = quasibinomial())\n",
    "result <- summary(model)\n",
    "\"\"\"\n",
    "\n",
    "# Run the R code\n",
    "ro.r(r_code)\n",
    "\n",
    "# Retrieve and print results if needed\n",
    "result = ro.r('result')\n",
    "col_names = ro.r('col_names')\n",
    "print(f\"Col Names: {col_names}\")\n",
    "print()\n",
    "print(f\"Result from rsurvey function:\")\n",
    "print(result)"
   ]
  },
  {
   "cell_type": "code",
   "execution_count": 85,
   "id": "e1818cb0-c6b7-495a-a8f7-d6007d1ae49f",
   "metadata": {},
   "outputs": [
    {
     "name": "stdout",
     "output_type": "stream",
     "text": [
      "0___________________\n",
      "Stratified Independent Sampling design (with replacement)\n",
      "svydesign(id = ~PSU, strata = ~Strata, weights = ~Weights, data = rdf)\n",
      "\n",
      "Call:  svyglm(formula = Smoking ~ Year, design = design, family = quasibinomial())\n",
      "\n",
      "Coefficients:\n",
      "(Intercept)         Year  \n",
      "  148.13714     -0.07426  \n",
      "\n",
      "Degrees of Freedom: 20831 Total (i.e. Null);  20811 Residual\n",
      "  (937 observations deleted due to missingness)\n",
      "Null Deviance:\t    16330 \n",
      "Residual Deviance: 16300 \tAIC: NA\n",
      "\n",
      "1___________________\n",
      "Smoking ~ Year\n",
      "attr(,\"variables\")\n",
      "list(Smoking, Year)\n",
      "attr(,\"factors\")\n",
      "        Year\n",
      "Smoking    0\n",
      "Year       1\n",
      "attr(,\"term.labels\")\n",
      "[1] \"Year\"\n",
      "attr(,\"order\")\n",
      "[1] 1\n",
      "attr(,\"intercept\")\n",
      "[1] 1\n",
      "attr(,\"response\")\n",
      "[1] 1\n",
      "attr(,\".Environment\")\n",
      "<environment: R_GlobalEnv>\n",
      "attr(,\"predvars\")\n",
      "list(Smoking, Year)\n",
      "attr(,\"dataClasses\")\n",
      "  Smoking      Year (weights) \n",
      "\"numeric\" \"numeric\" \"numeric\" \n",
      "\n",
      "2___________________\n",
      "\n",
      "Family: quasibinomial \n",
      "Link function: logit \n",
      "\n",
      "\n",
      "3___________________\n",
      "[16300.72702218]\n",
      "4___________________\n",
      "[nan]\n",
      "5___________________\n",
      "<rpy2.rinterface_lib.sexp.NULLType object at 0x0000024E106ED590> [0]\n",
      "6___________________\n",
      "[20811.]\n",
      "7___________________\n",
      "[16327.07960337]\n",
      "8___________________\n",
      "[1] 20831\n",
      "\n",
      "9___________________\n",
      "[1] 3\n",
      "\n",
      "10___________________\n",
      "[-0.31089038 -0.22908338 -0.29994529 ... -0.53215719 -0.34611354\n",
      " -0.38629436]\n",
      "11___________________\n",
      "[nan]\n",
      "12___________________\n",
      "[[ 1.48137135e+02  3.75614436e+01  3.94386161e+00  8.04426014e-05]\n",
      " [-7.42605672e-02  1.85979414e-02 -3.99294554e+00  6.54815888e-05]]\n",
      "13___________________\n",
      "[0.99375227]\n",
      "14___________________\n",
      "[2.0000e+00 2.0811e+04 2.0000e+00]\n",
      "15___________________\n",
      "[[ 1.41086204e+03 -6.98565357e-01]\n",
      " [-6.98565357e-01  3.45883425e-04]]\n",
      "16___________________\n",
      "[[ 1.41086204e+03 -6.98565357e-01]\n",
      " [-6.98565357e-01  3.45883425e-04]]\n",
      "17___________________\n",
      "(Intercept)        Year \n",
      "      FALSE       FALSE \n",
      "\n",
      "18___________________\n",
      "$call\n",
      "svydesign(id = ~PSU, strata = ~Strata, weights = ~Weights, data = rdf)\n",
      "\n",
      "\n"
     ]
    }
   ],
   "source": [
    "for line in range(len(result)):\n",
    "    print(f\"{line}___________________\")\n",
    "    print(result[line])"
   ]
  },
  {
   "cell_type": "code",
   "execution_count": 91,
   "id": "ee432caf-cec1-4054-ac76-4c96d0521fa8",
   "metadata": {},
   "outputs": [
    {
     "name": "stdout",
     "output_type": "stream",
     "text": [
      "-0.07426056720210424\n"
     ]
    }
   ],
   "source": [
    "print(result[12][1][0])"
   ]
  },
  {
   "cell_type": "code",
   "execution_count": 92,
   "id": "cbb26e4e-b9bc-4dbd-8640-cbd7d4d5b886",
   "metadata": {},
   "outputs": [
    {
     "name": "stdout",
     "output_type": "stream",
     "text": [
      "6.548158883786351e-05\n"
     ]
    }
   ],
   "source": [
    "print(result[12][1][3])"
   ]
  },
  {
   "cell_type": "code",
   "execution_count": 93,
   "id": "2d6da24f-836b-4a6c-833b-1bc0e3ea55ad",
   "metadata": {},
   "outputs": [
    {
     "data": {
      "text/plain": [
       "0.0009433962264150943"
      ]
     },
     "execution_count": 93,
     "metadata": {},
     "output_type": "execute_result"
    }
   ],
   "source": [
    "0.05/53"
   ]
  },
  {
   "cell_type": "code",
   "execution_count": null,
   "id": "b7aeaa10-b5bc-4948-83c9-e9d3d7fabd4c",
   "metadata": {},
   "outputs": [],
   "source": []
  }
 ],
 "metadata": {
  "kernelspec": {
   "display_name": "Python 3 (ipykernel)",
   "language": "python",
   "name": "python3"
  },
  "language_info": {
   "codemirror_mode": {
    "name": "ipython",
    "version": 3
   },
   "file_extension": ".py",
   "mimetype": "text/x-python",
   "name": "python",
   "nbconvert_exporter": "python",
   "pygments_lexer": "ipython3",
   "version": "3.11.9"
  }
 },
 "nbformat": 4,
 "nbformat_minor": 5
}
